{
  "nbformat": 4,
  "nbformat_minor": 0,
  "metadata": {
    "colab": {
      "name": "movie_recommendation_system.ipynb",
      "provenance": [],
      "authorship_tag": "ABX9TyOqC/nOTham8taG2utFyX5E"
    },
    "kernelspec": {
      "name": "python3",
      "display_name": "Python 3"
    }
  },
  "cells": [
    {
      "cell_type": "code",
      "metadata": {
        "id": "UQwrB_3GT62h",
        "colab_type": "code",
        "colab": {
          "base_uri": "https://localhost:8080/",
          "height": 271
        },
        "outputId": "e66f617b-6467-4c7b-ebfe-428c825b9a04"
      },
      "source": [
        "pip install scikit-surprise"
      ],
      "execution_count": null,
      "outputs": [
        {
          "output_type": "stream",
          "text": [
            "Collecting scikit-surprise\n",
            "\u001b[?25l  Downloading https://files.pythonhosted.org/packages/97/37/5d334adaf5ddd65da99fc65f6507e0e4599d092ba048f4302fe8775619e8/scikit-surprise-1.1.1.tar.gz (11.8MB)\n",
            "\u001b[K     |████████████████████████████████| 11.8MB 333kB/s \n",
            "\u001b[?25hRequirement already satisfied: joblib>=0.11 in /usr/local/lib/python3.6/dist-packages (from scikit-surprise) (0.16.0)\n",
            "Requirement already satisfied: numpy>=1.11.2 in /usr/local/lib/python3.6/dist-packages (from scikit-surprise) (1.18.5)\n",
            "Requirement already satisfied: scipy>=1.0.0 in /usr/local/lib/python3.6/dist-packages (from scikit-surprise) (1.4.1)\n",
            "Requirement already satisfied: six>=1.10.0 in /usr/local/lib/python3.6/dist-packages (from scikit-surprise) (1.15.0)\n",
            "Building wheels for collected packages: scikit-surprise\n",
            "  Building wheel for scikit-surprise (setup.py) ... \u001b[?25l\u001b[?25hdone\n",
            "  Created wheel for scikit-surprise: filename=scikit_surprise-1.1.1-cp36-cp36m-linux_x86_64.whl size=1670921 sha256=20ee53a42e19d630ce3ec466ee060461093061a5cd2bd575e05df4ce87a8d950\n",
            "  Stored in directory: /root/.cache/pip/wheels/78/9c/3d/41b419c9d2aff5b6e2b4c0fc8d25c538202834058f9ed110d0\n",
            "Successfully built scikit-surprise\n",
            "Installing collected packages: scikit-surprise\n",
            "Successfully installed scikit-surprise-1.1.1\n"
          ],
          "name": "stdout"
        }
      ]
    },
    {
      "cell_type": "markdown",
      "metadata": {
        "id": "cUA3aIndVv5w",
        "colab_type": "text"
      },
      "source": [
        "### **Importing libraries**"
      ]
    },
    {
      "cell_type": "code",
      "metadata": {
        "id": "PXUZagRiUvEz",
        "colab_type": "code",
        "colab": {}
      },
      "source": [
        "import pandas as pd\n",
        "from surprise import Reader, Dataset, SVD\n",
        "from surprise.accuracy import rmse,mae\n",
        "from surprise.model_selection import cross_validate"
      ],
      "execution_count": null,
      "outputs": []
    },
    {
      "cell_type": "markdown",
      "metadata": {
        "id": "p9hyV6nMWjks",
        "colab_type": "text"
      },
      "source": [
        "## Importing data"
      ]
    },
    {
      "cell_type": "code",
      "metadata": {
        "id": "dRa7ENU1VmrD",
        "colab_type": "code",
        "colab": {
          "base_uri": "https://localhost:8080/",
          "height": 196
        },
        "outputId": "3f806526-e88e-4a0a-ae6c-bd539e6016fd"
      },
      "source": [
        "df = pd.read_csv('sample_data/movie_recommendation_system/ratings.csv')\n",
        "df.head()"
      ],
      "execution_count": null,
      "outputs": [
        {
          "output_type": "execute_result",
          "data": {
            "text/html": [
              "<div>\n",
              "<style scoped>\n",
              "    .dataframe tbody tr th:only-of-type {\n",
              "        vertical-align: middle;\n",
              "    }\n",
              "\n",
              "    .dataframe tbody tr th {\n",
              "        vertical-align: top;\n",
              "    }\n",
              "\n",
              "    .dataframe thead th {\n",
              "        text-align: right;\n",
              "    }\n",
              "</style>\n",
              "<table border=\"1\" class=\"dataframe\">\n",
              "  <thead>\n",
              "    <tr style=\"text-align: right;\">\n",
              "      <th></th>\n",
              "      <th>userId</th>\n",
              "      <th>movieId</th>\n",
              "      <th>rating</th>\n",
              "      <th>timestamp</th>\n",
              "    </tr>\n",
              "  </thead>\n",
              "  <tbody>\n",
              "    <tr>\n",
              "      <th>0</th>\n",
              "      <td>1</td>\n",
              "      <td>1</td>\n",
              "      <td>4.0</td>\n",
              "      <td>964982703</td>\n",
              "    </tr>\n",
              "    <tr>\n",
              "      <th>1</th>\n",
              "      <td>1</td>\n",
              "      <td>3</td>\n",
              "      <td>4.0</td>\n",
              "      <td>964981247</td>\n",
              "    </tr>\n",
              "    <tr>\n",
              "      <th>2</th>\n",
              "      <td>1</td>\n",
              "      <td>6</td>\n",
              "      <td>4.0</td>\n",
              "      <td>964982224</td>\n",
              "    </tr>\n",
              "    <tr>\n",
              "      <th>3</th>\n",
              "      <td>1</td>\n",
              "      <td>47</td>\n",
              "      <td>5.0</td>\n",
              "      <td>964983815</td>\n",
              "    </tr>\n",
              "    <tr>\n",
              "      <th>4</th>\n",
              "      <td>1</td>\n",
              "      <td>50</td>\n",
              "      <td>5.0</td>\n",
              "      <td>964982931</td>\n",
              "    </tr>\n",
              "  </tbody>\n",
              "</table>\n",
              "</div>"
            ],
            "text/plain": [
              "   userId  movieId  rating  timestamp\n",
              "0       1        1     4.0  964982703\n",
              "1       1        3     4.0  964981247\n",
              "2       1        6     4.0  964982224\n",
              "3       1       47     5.0  964983815\n",
              "4       1       50     5.0  964982931"
            ]
          },
          "metadata": {
            "tags": []
          },
          "execution_count": 4
        }
      ]
    },
    {
      "cell_type": "markdown",
      "metadata": {
        "id": "TuUUsCJBXDmW",
        "colab_type": "text"
      },
      "source": [
        "Dropping timestamp because we won't be using it"
      ]
    },
    {
      "cell_type": "code",
      "metadata": {
        "id": "Jaq0wYNFXNqh",
        "colab_type": "code",
        "colab": {
          "base_uri": "https://localhost:8080/",
          "height": 196
        },
        "outputId": "64e7f1e9-d12d-4636-df7a-ec87b22f2092"
      },
      "source": [
        "df.drop('timestamp', axis = 1, inplace = True)\n",
        "df.head()"
      ],
      "execution_count": null,
      "outputs": [
        {
          "output_type": "execute_result",
          "data": {
            "text/html": [
              "<div>\n",
              "<style scoped>\n",
              "    .dataframe tbody tr th:only-of-type {\n",
              "        vertical-align: middle;\n",
              "    }\n",
              "\n",
              "    .dataframe tbody tr th {\n",
              "        vertical-align: top;\n",
              "    }\n",
              "\n",
              "    .dataframe thead th {\n",
              "        text-align: right;\n",
              "    }\n",
              "</style>\n",
              "<table border=\"1\" class=\"dataframe\">\n",
              "  <thead>\n",
              "    <tr style=\"text-align: right;\">\n",
              "      <th></th>\n",
              "      <th>userId</th>\n",
              "      <th>movieId</th>\n",
              "      <th>rating</th>\n",
              "    </tr>\n",
              "  </thead>\n",
              "  <tbody>\n",
              "    <tr>\n",
              "      <th>0</th>\n",
              "      <td>1</td>\n",
              "      <td>1</td>\n",
              "      <td>4.0</td>\n",
              "    </tr>\n",
              "    <tr>\n",
              "      <th>1</th>\n",
              "      <td>1</td>\n",
              "      <td>3</td>\n",
              "      <td>4.0</td>\n",
              "    </tr>\n",
              "    <tr>\n",
              "      <th>2</th>\n",
              "      <td>1</td>\n",
              "      <td>6</td>\n",
              "      <td>4.0</td>\n",
              "    </tr>\n",
              "    <tr>\n",
              "      <th>3</th>\n",
              "      <td>1</td>\n",
              "      <td>47</td>\n",
              "      <td>5.0</td>\n",
              "    </tr>\n",
              "    <tr>\n",
              "      <th>4</th>\n",
              "      <td>1</td>\n",
              "      <td>50</td>\n",
              "      <td>5.0</td>\n",
              "    </tr>\n",
              "  </tbody>\n",
              "</table>\n",
              "</div>"
            ],
            "text/plain": [
              "   userId  movieId  rating\n",
              "0       1        1     4.0\n",
              "1       1        3     4.0\n",
              "2       1        6     4.0\n",
              "3       1       47     5.0\n",
              "4       1       50     5.0"
            ]
          },
          "metadata": {
            "tags": []
          },
          "execution_count": 5
        }
      ]
    },
    {
      "cell_type": "markdown",
      "metadata": {
        "id": "5KbBtE2DXkSr",
        "colab_type": "text"
      },
      "source": [
        "# Checking missing values"
      ]
    },
    {
      "cell_type": "code",
      "metadata": {
        "id": "QklOxg4EXsHw",
        "colab_type": "code",
        "colab": {
          "base_uri": "https://localhost:8080/",
          "height": 84
        },
        "outputId": "0acae1ef-4229-4a76-e5e9-f93f199fe5b6"
      },
      "source": [
        "df.isna().sum()"
      ],
      "execution_count": null,
      "outputs": [
        {
          "output_type": "execute_result",
          "data": {
            "text/plain": [
              "userId     0\n",
              "movieId    0\n",
              "rating     0\n",
              "dtype: int64"
            ]
          },
          "metadata": {
            "tags": []
          },
          "execution_count": 8
        }
      ]
    },
    {
      "cell_type": "markdown",
      "metadata": {
        "id": "UBdotyPiX59Y",
        "colab_type": "text"
      },
      "source": [
        "# Exploratory Data Analysis(EDA)"
      ]
    },
    {
      "cell_type": "code",
      "metadata": {
        "id": "Xv17nYTPXxfC",
        "colab_type": "code",
        "colab": {
          "base_uri": "https://localhost:8080/",
          "height": 50
        },
        "outputId": "ad859eda-0215-48df-951f-d09acbc60efb"
      },
      "source": [
        "n_movies = df[\"movieId\"].nunique()\n",
        "n_users = df[\"userId\"].nunique()\n",
        "print(f'Number of uique movies: {n_movies}')\n",
        "print(f'Number of uique users: {n_users}')"
      ],
      "execution_count": null,
      "outputs": [
        {
          "output_type": "stream",
          "text": [
            "Number of uique movies: 9724\n",
            "Number of uique users: 610\n"
          ],
          "name": "stdout"
        }
      ]
    },
    {
      "cell_type": "markdown",
      "metadata": {
        "id": "Bkx9SPnfY43X",
        "colab_type": "text"
      },
      "source": [
        "# Sparsity of our data\n",
        "Sparsity(%) = ((Missing Values) / (Total Values)) * 100"
      ]
    },
    {
      "cell_type": "code",
      "metadata": {
        "id": "_eaxRfD5YuhV",
        "colab_type": "code",
        "colab": {
          "base_uri": "https://localhost:8080/",
          "height": 33
        },
        "outputId": "7dd7e276-1d51-4237-bc59-478b441870ec"
      },
      "source": [
        "available_ratings = df['rating'].count()\n",
        "total_ratings = n_movies * n_users\n",
        "missing_ratings = total_ratings - available_ratings\n",
        "sparsity = (missing_ratings / total_ratings) * 100\n",
        "print(f'Sparsity: {sparsity}')"
      ],
      "execution_count": null,
      "outputs": [
        {
          "output_type": "stream",
          "text": [
            "Sparsity: 98.30003169443864\n"
          ],
          "name": "stdout"
        }
      ]
    },
    {
      "cell_type": "markdown",
      "metadata": {
        "id": "XaBv_5C_Z7oX",
        "colab_type": "text"
      },
      "source": [
        "# Ratings Distribution"
      ]
    },
    {
      "cell_type": "code",
      "metadata": {
        "id": "en0a_OVPZ4r8",
        "colab_type": "code",
        "colab": {
          "base_uri": "https://localhost:8080/",
          "height": 288
        },
        "outputId": "61af7c13-aa76-40ef-fb4e-59fdae246e93"
      },
      "source": [
        "df['rating'].value_counts().plot(kind = 'bar')"
      ],
      "execution_count": null,
      "outputs": [
        {
          "output_type": "execute_result",
          "data": {
            "text/plain": [
              "<matplotlib.axes._subplots.AxesSubplot at 0x7fbec08768d0>"
            ]
          },
          "metadata": {
            "tags": []
          },
          "execution_count": 14
        },
        {
          "output_type": "display_data",
          "data": {
            "image/png": "[encoded data removed]",
            "text/plain": [
              "<Figure size 432x288 with 1 Axes>"
            ]
          },
          "metadata": {
            "tags": [],
            "needs_background": "light"
          }
        }
      ]
    },
    {
      "cell_type": "markdown",
      "metadata": {
        "id": "QD-8hUANaT9q",
        "colab_type": "text"
      },
      "source": [
        "# Dimensionality Reduction"
      ]
    },
    {
      "cell_type": "markdown",
      "metadata": {
        "id": "GWT-NQZ-aZ1B",
        "colab_type": "text"
      },
      "source": [
        "Filter movies with less than 3 ratings"
      ]
    },
    {
      "cell_type": "code",
      "metadata": {
        "id": "YeHsr83iaIE6",
        "colab_type": "code",
        "colab": {}
      },
      "source": [
        "filter_movies = df['movieId'].value_counts() > 3\n",
        "filter_movies = filter_movies[filter_movies].index.tolist()"
      ],
      "execution_count": null,
      "outputs": []
    },
    {
      "cell_type": "markdown",
      "metadata": {
        "id": "sH8hY3C2a2Zf",
        "colab_type": "text"
      },
      "source": [
        "Filter users with less than 3 movies rated"
      ]
    },
    {
      "cell_type": "code",
      "metadata": {
        "id": "RLmQw_4CavJI",
        "colab_type": "code",
        "colab": {}
      },
      "source": [
        "filter_users = df['userId'].value_counts() > 3\n",
        "filter_users = filter_users[filter_users].index.tolist()"
      ],
      "execution_count": null,
      "outputs": []
    },
    {
      "cell_type": "markdown",
      "metadata": {
        "id": "1tJUHp2GbPZ8",
        "colab_type": "text"
      },
      "source": [
        "Remove rarely rated movies and rarely rating users"
      ]
    },
    {
      "cell_type": "code",
      "metadata": {
        "id": "HwbnEeU2bLRA",
        "colab_type": "code",
        "colab": {
          "base_uri": "https://localhost:8080/",
          "height": 50
        },
        "outputId": "479b6d94-de2c-45a5-c090-0b851deb5e45"
      },
      "source": [
        "print(f'Old Shape: {df.shape}')\n",
        "df = df[(df['movieId'].isin(filter_movies)) & (df['userId'].isin(filter_users))]\n",
        "print(f'New Shape: {df.shape}')"
      ],
      "execution_count": null,
      "outputs": [
        {
          "output_type": "stream",
          "text": [
            "Old Shape: (100836, 3)\n",
            "New Shape: (92394, 3)\n"
          ],
          "name": "stdout"
        }
      ]
    },
    {
      "cell_type": "markdown",
      "metadata": {
        "id": "UphPtkkjcCKP",
        "colab_type": "text"
      },
      "source": [
        "# Create training and test sets"
      ]
    },
    {
      "cell_type": "markdown",
      "metadata": {
        "id": "vX464A3lcH6H",
        "colab_type": "text"
      },
      "source": [
        "Columns used for training"
      ]
    },
    {
      "cell_type": "code",
      "metadata": {
        "id": "jnToJZsvbzQi",
        "colab_type": "code",
        "colab": {}
      },
      "source": [
        "cols = ['userId','movieId','rating']"
      ],
      "execution_count": null,
      "outputs": []
    },
    {
      "cell_type": "markdown",
      "metadata": {
        "id": "VjoJELlccTQw",
        "colab_type": "text"
      },
      "source": [
        "Create surprise dataset"
      ]
    },
    {
      "cell_type": "code",
      "metadata": {
        "id": "pXu5gPbAcQZJ",
        "colab_type": "code",
        "colab": {}
      },
      "source": [
        "reader = Reader(rating_scale =  (0.5,5))\n",
        "data = Dataset.load_from_df(df[cols],reader)"
      ],
      "execution_count": null,
      "outputs": []
    },
    {
      "cell_type": "markdown",
      "metadata": {
        "id": "-26MNwxtcofi",
        "colab_type": "text"
      },
      "source": [
        "Create train set and prediction set"
      ]
    },
    {
      "cell_type": "code",
      "metadata": {
        "id": "VFfsYWUSckgg",
        "colab_type": "code",
        "colab": {}
      },
      "source": [
        "trainset = data.build_full_trainset()\n",
        "antiset = trainset.build_anti_testset()"
      ],
      "execution_count": null,
      "outputs": []
    },
    {
      "cell_type": "markdown",
      "metadata": {
        "id": "vd_rFRMBdAvv",
        "colab_type": "text"
      },
      "source": [
        "# Creating a model\n",
        "Singular Value Decomposition(SVD) and Interaction Matrix"
      ]
    },
    {
      "cell_type": "code",
      "metadata": {
        "id": "fQMDLOeMc1lb",
        "colab_type": "code",
        "colab": {}
      },
      "source": [
        "algo = SVD(n_epochs = 25, verbose = True)"
      ],
      "execution_count": null,
      "outputs": []
    },
    {
      "cell_type": "markdown",
      "metadata": {
        "id": "N_uZdxQ2diM4",
        "colab_type": "text"
      },
      "source": [
        "Training the model"
      ]
    },
    {
      "cell_type": "code",
      "metadata": {
        "id": "Q1YEo-L_deVI",
        "colab_type": "code",
        "colab": {
          "base_uri": "https://localhost:8080/",
          "height": 1000
        },
        "outputId": "97dbae91-dd6f-4134-8051-7492269289b9"
      },
      "source": [
        "cross_validate(algo, data, measures = ['RMSE', 'MAE'], cv = 5, verbose = True)\n",
        "print(\">>>>Training Done\")"
      ],
      "execution_count": null,
      "outputs": [
        {
          "output_type": "stream",
          "text": [
            "Processing epoch 0\n",
            "Processing epoch 1\n",
            "Processing epoch 2\n",
            "Processing epoch 3\n",
            "Processing epoch 4\n",
            "Processing epoch 5\n",
            "Processing epoch 6\n",
            "Processing epoch 7\n",
            "Processing epoch 8\n",
            "Processing epoch 9\n",
            "Processing epoch 10\n",
            "Processing epoch 11\n",
            "Processing epoch 12\n",
            "Processing epoch 13\n",
            "Processing epoch 14\n",
            "Processing epoch 15\n",
            "Processing epoch 16\n",
            "Processing epoch 17\n",
            "Processing epoch 18\n",
            "Processing epoch 19\n",
            "Processing epoch 20\n",
            "Processing epoch 21\n",
            "Processing epoch 22\n",
            "Processing epoch 23\n",
            "Processing epoch 24\n",
            "Processing epoch 0\n",
            "Processing epoch 1\n",
            "Processing epoch 2\n",
            "Processing epoch 3\n",
            "Processing epoch 4\n",
            "Processing epoch 5\n",
            "Processing epoch 6\n",
            "Processing epoch 7\n",
            "Processing epoch 8\n",
            "Processing epoch 9\n",
            "Processing epoch 10\n",
            "Processing epoch 11\n",
            "Processing epoch 12\n",
            "Processing epoch 13\n",
            "Processing epoch 14\n",
            "Processing epoch 15\n",
            "Processing epoch 16\n",
            "Processing epoch 17\n",
            "Processing epoch 18\n",
            "Processing epoch 19\n",
            "Processing epoch 20\n",
            "Processing epoch 21\n",
            "Processing epoch 22\n",
            "Processing epoch 23\n",
            "Processing epoch 24\n",
            "Processing epoch 0\n",
            "Processing epoch 1\n",
            "Processing epoch 2\n",
            "Processing epoch 3\n",
            "Processing epoch 4\n",
            "Processing epoch 5\n",
            "Processing epoch 6\n",
            "Processing epoch 7\n",
            "Processing epoch 8\n",
            "Processing epoch 9\n",
            "Processing epoch 10\n",
            "Processing epoch 11\n",
            "Processing epoch 12\n",
            "Processing epoch 13\n",
            "Processing epoch 14\n",
            "Processing epoch 15\n",
            "Processing epoch 16\n",
            "Processing epoch 17\n",
            "Processing epoch 18\n",
            "Processing epoch 19\n",
            "Processing epoch 20\n",
            "Processing epoch 21\n",
            "Processing epoch 22\n",
            "Processing epoch 23\n",
            "Processing epoch 24\n",
            "Processing epoch 0\n",
            "Processing epoch 1\n",
            "Processing epoch 2\n",
            "Processing epoch 3\n",
            "Processing epoch 4\n",
            "Processing epoch 5\n",
            "Processing epoch 6\n",
            "Processing epoch 7\n",
            "Processing epoch 8\n",
            "Processing epoch 9\n",
            "Processing epoch 10\n",
            "Processing epoch 11\n",
            "Processing epoch 12\n",
            "Processing epoch 13\n",
            "Processing epoch 14\n",
            "Processing epoch 15\n",
            "Processing epoch 16\n",
            "Processing epoch 17\n",
            "Processing epoch 18\n",
            "Processing epoch 19\n",
            "Processing epoch 20\n",
            "Processing epoch 21\n",
            "Processing epoch 22\n",
            "Processing epoch 23\n",
            "Processing epoch 24\n",
            "Processing epoch 0\n",
            "Processing epoch 1\n",
            "Processing epoch 2\n",
            "Processing epoch 3\n",
            "Processing epoch 4\n",
            "Processing epoch 5\n",
            "Processing epoch 6\n",
            "Processing epoch 7\n",
            "Processing epoch 8\n",
            "Processing epoch 9\n",
            "Processing epoch 10\n",
            "Processing epoch 11\n",
            "Processing epoch 12\n",
            "Processing epoch 13\n",
            "Processing epoch 14\n",
            "Processing epoch 15\n",
            "Processing epoch 16\n",
            "Processing epoch 17\n",
            "Processing epoch 18\n",
            "Processing epoch 19\n",
            "Processing epoch 20\n",
            "Processing epoch 21\n",
            "Processing epoch 22\n",
            "Processing epoch 23\n",
            "Processing epoch 24\n",
            "Evaluating RMSE, MAE of algorithm SVD on 5 split(s).\n",
            "\n",
            "                  Fold 1  Fold 2  Fold 3  Fold 4  Fold 5  Mean    Std     \n",
            "RMSE (testset)    0.8710  0.8595  0.8670  0.8571  0.8477  0.8605  0.0081  \n",
            "MAE (testset)     0.6693  0.6594  0.6637  0.6590  0.6496  0.6602  0.0065  \n",
            "Fit time          6.04    6.07    6.05    6.03    6.09    6.05    0.02    \n",
            "Test time         0.13    0.28    0.14    0.26    0.16    0.19    0.06    \n",
            ">>>>Training Done\n"
          ],
          "name": "stdout"
        }
      ]
    },
    {
      "cell_type": "markdown",
      "metadata": {
        "id": "JAfl2BJHecZd",
        "colab_type": "text"
      },
      "source": [
        "# **Predictions**\n",
        "Predict ratings for all pairs (users, movies) that are not in training set"
      ]
    },
    {
      "cell_type": "code",
      "metadata": {
        "id": "OnzZ98yNd2Sq",
        "colab_type": "code",
        "colab": {
          "base_uri": "https://localhost:8080/",
          "height": 33
        },
        "outputId": "7c32c536-06b6-48cd-ae9c-ad048c9879f0"
      },
      "source": [
        "predictions = algo.test(antiset)\n",
        "#Print first prediction\n",
        "predictions[0]"
      ],
      "execution_count": null,
      "outputs": [
        {
          "output_type": "execute_result",
          "data": {
            "text/plain": [
              "Prediction(uid=1, iid=318, r_ui=3.529119856267723, est=5, details={'was_impossible': False})"
            ]
          },
          "metadata": {
            "tags": []
          },
          "execution_count": 25
        }
      ]
    },
    {
      "cell_type": "markdown",
      "metadata": {
        "id": "PTZ51Zx3fGr0",
        "colab_type": "text"
      },
      "source": [
        "Recommending top 3 movies based on predictions"
      ]
    },
    {
      "cell_type": "code",
      "metadata": {
        "id": "rAk_iQ0Ye60K",
        "colab_type": "code",
        "colab": {
          "base_uri": "https://localhost:8080/",
          "height": 1000
        },
        "outputId": "8901a501-70c7-4145-b08b-6769fb8013f6"
      },
      "source": [
        "from collections import defaultdict\n",
        "\n",
        "def get_top_n(predictions,n):\n",
        "  top_n = defaultdict(list)\n",
        "  for uid, iid, _, est, _ in predictions:\n",
        "    top_n[uid].append((iid,est))\n",
        "\n",
        "  for uid,user_ratings in top_n.items():\n",
        "    user_ratings.sort(key = lambda x : x[1], reverse = True)\n",
        "    top_n[uid] = user_ratings[:n]\n",
        "  return top_n\n",
        "  pass\n",
        "\n",
        "top_n = get_top_n(predictions, n = 3)\n",
        "for uid, user_ratings in top_n.items():\n",
        "  print(uid, [ iid for (iid, rating) in user_ratings])"
      ],
      "execution_count": null,
      "outputs": [
        {
          "output_type": "stream",
          "text": [
            "1 [318, 48516, 58559]\n",
            "2 [1204, 1217, 1945]\n",
            "3 [1104, 4011, 750]\n",
            "4 [1270, 1204, 3030]\n",
            "5 [1204, 1213, 4993]\n",
            "6 [3451, 1225, 5690]\n",
            "7 [318, 1235, 1214]\n",
            "8 [1172, 1198, 1213]\n",
            "9 [1250, 1213, 1193]\n",
            "10 [260, 3030, 2300]\n",
            "11 [1204, 527, 58559]\n",
            "12 [1197, 1206, 2761]\n",
            "13 [296, 1204, 50]\n",
            "14 [3435, 1213, 898]\n",
            "15 [608, 1221, 475]\n",
            "16 [2324, 3275, 106782]\n",
            "17 [3030, 1250, 3451]\n",
            "18 [1235, 750, 1225]\n",
            "19 [1213, 1080, 5618]\n",
            "20 [1197, 296, 1250]\n",
            "21 [1204, 898, 6796]\n",
            "22 [1197, 1206, 1213]\n",
            "23 [356, 1204, 2324]\n",
            "24 [904, 912, 1250]\n",
            "25 [318, 475, 912]\n",
            "26 [1204, 2019, 6104]\n",
            "27 [904, 2160, 5690]\n",
            "28 [1283, 4973, 2788]\n",
            "29 [898, 7361, 27773]\n",
            "30 [1197, 1213, 2959]\n",
            "31 [858, 910, 475]\n",
            "32 [1204, 2959, 2692]\n",
            "33 [2300, 912, 3949]\n",
            "34 [1198, 3508, 4011]\n",
            "35 [912, 750, 1204]\n",
            "36 [741, 1089, 1204]\n",
            "37 [1204, 898, 27773]\n",
            "38 [5747, 2959, 1193]\n",
            "39 [1235, 318, 112552]\n",
            "40 [899, 1198, 1235]\n",
            "41 [8784, 1104, 3147]\n",
            "42 [1225, 25, 1208]\n",
            "43 [260, 593, 608]\n",
            "44 [1222, 296, 1276]\n",
            "45 [2019, 6711, 898]\n",
            "46 [3451, 898, 4642]\n",
            "47 [527, 1104, 898]\n",
            "48 [3030, 4226, 1204]\n",
            "49 [1208, 1262, 1203]\n",
            "50 [1197, 1237, 1193]\n",
            "51 [608, 1080, 1136]\n",
            "52 [898, 1250, 750]\n",
            "53 [6, 47, 50]\n",
            "54 [1136, 3275, 1228]\n",
            "55 [1136, 3949, 541]\n",
            "56 [1196, 475, 1204]\n",
            "57 [4226, 4993, 2186]\n",
            "58 [1213, 898, 1204]\n",
            "59 [1197, 2959, 4226]\n",
            "60 [741, 2324, 475]\n",
            "61 [898, 3275, 910]\n",
            "62 [1204, 3030, 1250]\n",
            "63 [1206, 2300, 27773]\n",
            "64 [910, 1248, 68954]\n",
            "65 [2324, 1203, 1204]\n",
            "66 [3275, 750, 1208]\n",
            "67 [750, 27773, 1217]\n",
            "68 [951, 908, 928]\n",
            "69 [527, 1089, 1198]\n",
            "70 [27773, 1204, 2324]\n",
            "71 [3030, 71899, 1204]\n",
            "72 [741, 112552, 1201]\n",
            "73 [1208, 1250, 7361]\n",
            "74 [1213, 1250, 1204]\n",
            "75 [858, 56782, 1203]\n",
            "76 [1228, 48516, 1219]\n",
            "77 [858, 356, 1203]\n",
            "78 [7361, 741, 4973]\n",
            "79 [1208, 318, 899]\n",
            "80 [1213, 898, 904]\n",
            "81 [1283, 866, 4993]\n",
            "82 [318, 1080, 1276]\n",
            "83 [2329, 1208, 54881]\n",
            "84 [1262, 750, 1952]\n",
            "85 [1213, 318, 858]\n",
            "86 [2324, 1104, 1172]\n",
            "87 [1104, 910, 1172]\n",
            "88 [1221, 356, 750]\n",
            "89 [2502, 2329, 1104]\n",
            "90 [750, 1203, 1213]\n",
            "91 [1204, 1235, 1945]\n",
            "92 [2324, 4973, 527]\n",
            "93 [223, 296, 608]\n",
            "94 [1199, 1204, 2324]\n",
            "95 [318, 1213, 1235]\n",
            "96 [2019, 1148, 4011]\n",
            "97 [527, 1089, 1136]\n",
            "98 [2959, 318, 1250]\n",
            "99 [898, 1, 1198]\n",
            "100 [741, 750, 3030]\n",
            "101 [2571, 608, 318]\n",
            "102 [527, 1197, 741]\n",
            "103 [2324, 1204, 1225]\n",
            "104 [3030, 3451, 741]\n",
            "105 [899, 3508, 951]\n",
            "106 [50, 260, 608]\n",
            "107 [750, 1250, 912]\n",
            "108 [1197, 48516, 3030]\n",
            "109 [2324, 48516, 1223]\n",
            "110 [58559, 899, 1204]\n",
            "111 [1387, 5060, 1203]\n",
            "112 [527, 858, 296]\n",
            "113 [1104, 3275, 7361]\n",
            "114 [1272, 1235, 2571]\n",
            "115 [4226, 858, 1148]\n",
            "116 [2324, 296, 1235]\n",
            "117 [912, 1250, 1262]\n",
            "118 [898, 1203, 912]\n",
            "119 [4973, 2959, 951]\n",
            "120 [1172, 4011, 904]\n",
            "121 [608, 1203, 3508]\n",
            "122 [1198, 6874, 904]\n",
            "123 [3275, 750, 898]\n",
            "124 [4973, 1104, 750]\n",
            "125 [1204, 3030, 1208]\n",
            "126 [89745, 3451, 3030]\n",
            "127 [318, 527, 898]\n",
            "128 [1204, 1223, 1213]\n",
            "129 [3451, 951, 1204]\n",
            "130 [1104, 1136, 57669]\n",
            "131 [2959, 1204, 1197]\n",
            "132 [1203, 1136, 1104]\n",
            "133 [3451, 1204, 750]\n",
            "134 [4973, 3030, 318]\n",
            "135 [7438, 306, 1250]\n",
            "136 [91529, 1208, 750]\n",
            "137 [1104, 3435, 3030]\n",
            "138 [1204, 3275, 1213]\n",
            "139 [1262, 527, 1089]\n",
            "140 [71899, 58559, 81847]\n",
            "141 [1193, 2762, 1204]\n",
            "142 [1213, 1204, 1197]\n",
            "143 [3030, 2571, 1201]\n",
            "144 [1204, 1104, 1213]\n",
            "145 [2858, 1250, 1204]\n",
            "146 [318, 110, 898]\n",
            "147 [296, 1278, 608]\n",
            "148 [898, 55247, 246]\n",
            "149 [2959, 3275, 1193]\n",
            "150 [1198, 750, 898]\n",
            "151 [356, 3030, 260]\n",
            "152 [2019, 898, 1247]\n",
            "153 [223, 1267, 1104]\n",
            "154 [110, 1089, 1198]\n",
            "155 [2324, 1104, 96821]\n",
            "156 [1242, 51255, 1201]\n",
            "157 [4993, 1204, 1197]\n",
            "158 [318, 2019, 1213]\n",
            "159 [1221, 1213, 951]\n",
            "160 [5618, 741, 1243]\n",
            "161 [904, 1201, 3451]\n",
            "162 [260, 1197, 2571]\n",
            "163 [1203, 720, 1225]\n",
            "164 [3030, 1250, 1221]\n",
            "165 [3275, 3030, 951]\n",
            "166 [2019, 750, 1136]\n",
            "167 [6874, 2959, 741]\n",
            "168 [898, 527, 318]\n",
            "169 [1206, 1208, 1258]\n",
            "170 [2300, 1197, 260]\n",
            "171 [1222, 2571, 2959]\n",
            "172 [27773, 2959, 4973]\n",
            "173 [3030, 318, 246]\n",
            "174 [3030, 1203, 3451]\n",
            "175 [1204, 318, 750]\n",
            "176 [1213, 1172, 1136]\n",
            "177 [741, 58, 7802]\n",
            "178 [2019, 541, 1136]\n",
            "179 [912, 750, 527]\n",
            "180 [608, 1199, 5952]\n",
            "181 [1197, 318, 4995]\n",
            "182 [2324, 364, 2300]\n",
            "183 [904, 7361, 1235]\n",
            "184 [2959, 541, 1197]\n",
            "185 [1204, 318, 3275]\n",
            "186 [105504, 1237, 3451]\n",
            "187 [1283, 904, 1204]\n",
            "188 [1089, 318, 1199]\n",
            "189 [1104, 1197, 908]\n",
            "190 [296, 1172, 8874]\n",
            "191 [2858, 858, 1250]\n",
            "192 [3578, 1197, 260]\n",
            "193 [608, 750, 1204]\n",
            "194 [110, 899, 1196]\n",
            "195 [1197, 356, 1221]\n",
            "196 [3275, 910, 1201]\n",
            "197 [2019, 2959, 1197]\n",
            "198 [1387, 71899, 48516]\n",
            "199 [933, 2019, 3275]\n",
            "200 [56782, 1884, 2583]\n",
            "201 [527, 318, 1203]\n",
            "202 [1215, 1732, 3275]\n",
            "203 [1208, 750, 1206]\n",
            "204 [3552, 1204, 1193]\n",
            "205 [741, 1136, 1278]\n",
            "206 [912, 318, 1283]\n",
            "207 [1193, 1199, 1221]\n",
            "208 [1104, 1196, 1221]\n",
            "209 [3030, 1197, 1196]\n",
            "210 [3508, 951, 1204]\n",
            "211 [71899, 912, 1213]\n",
            "212 [7361, 1228, 912]\n",
            "213 [2571, 2959, 1225]\n",
            "214 [3275, 2959, 1197]\n",
            "215 [1213, 58559, 910]\n",
            "216 [912, 260, 318]\n",
            "217 [1219, 1212, 1276]\n",
            "218 [1193, 1197, 1206]\n",
            "219 [4973, 527, 1103]\n",
            "220 [1221, 1097, 1250]\n",
            "221 [1248, 7099, 741]\n",
            "222 [318, 1288, 260]\n",
            "223 [2324, 908, 51255]\n",
            "224 [2571, 2324, 48780]\n",
            "225 [356, 898, 2160]\n",
            "226 [38061, 318, 475]\n",
            "227 [5618, 908, 4226]\n",
            "228 [1193, 951, 1203]\n",
            "229 [912, 50, 260]\n",
            "230 [60069, 58559, 2324]\n",
            "231 [318, 1203, 1136]\n",
            "232 [778, 593, 1193]\n",
            "233 [1237, 898, 1207]\n",
            "234 [904, 3703, 4334]\n",
            "235 [750, 904, 2324]\n",
            "236 [1208, 3424, 260]\n",
            "237 [1213, 1228, 1172]\n",
            "238 [1172, 1104, 1208]\n",
            "239 [2019, 1199, 44195]\n",
            "240 [27773, 57669, 741]\n",
            "241 [912, 1199, 951]\n",
            "242 [2571, 527, 741]\n",
            "243 [898, 750, 1276]\n",
            "244 [318, 1221, 260]\n",
            "245 [318, 50, 1201]\n",
            "246 [527, 318, 1221]\n",
            "247 [904, 1248, 3030]\n",
            "248 [1204, 1172, 4973]\n",
            "249 [1136, 741, 1266]\n",
            "250 [1203, 541, 1262]\n",
            "251 [1213, 2329, 475]\n",
            "252 [1193, 296, 750]\n",
            "253 [1283, 3030, 527]\n",
            "254 [2019, 912, 1221]\n",
            "255 [1196, 296, 7153]\n",
            "256 [1204, 3147, 3451]\n",
            "257 [2329, 858, 1197]\n",
            "258 [1193, 7361, 1203]\n",
            "259 [296, 57669, 1228]\n",
            "260 [356, 2571, 318]\n",
            "261 [1204, 48516, 898]\n",
            "262 [2324, 2571, 741]\n",
            "263 [1172, 3451, 904]\n",
            "264 [2858, 1204, 1197]\n",
            "265 [3030, 1221, 1197]\n",
            "266 [858, 2542, 1223]\n",
            "267 [318, 4973, 953]\n",
            "268 [912, 750, 1136]\n",
            "269 [750, 1208, 898]\n",
            "270 [1193, 296, 741]\n",
            "271 [318, 1193, 741]\n",
            "272 [1198, 2019, 1291]\n",
            "273 [110, 1235, 2959]\n",
            "274 [5902, 1172, 1204]\n",
            "275 [898, 1262, 306]\n",
            "276 [296, 593, 1080]\n",
            "277 [2324, 318, 49272]\n",
            "278 [858, 750, 3030]\n",
            "279 [3114, 1089, 1617]\n",
            "280 [318, 1104, 750]\n",
            "281 [27773, 1262, 2300]\n",
            "282 [2324, 2300, 1225]\n",
            "283 [296, 33166, 1221]\n",
            "284 [1197, 4973, 1172]\n",
            "285 [1204, 2959, 1197]\n",
            "286 [1104, 750, 318]\n",
            "287 [858, 4011, 8784]\n",
            "288 [215, 858, 1089]\n",
            "289 [1136, 1213, 527]\n",
            "290 [922, 926, 4011]\n",
            "291 [899, 1204, 1203]\n",
            "292 [4967, 2118, 4034]\n",
            "293 [1283, 2329, 1233]\n",
            "294 [48774, 49272, 1945]\n",
            "295 [2788, 3030, 4993]\n",
            "296 [1250, 750, 3451]\n",
            "297 [2324, 296, 5952]\n",
            "298 [3508, 98491, 1080]\n",
            "299 [1204, 318, 2571]\n",
            "300 [3275, 750, 1278]\n",
            "301 [318, 1089, 3949]\n",
            "302 [3030, 2324, 898]\n",
            "303 [318, 475, 1193]\n",
            "304 [2160, 3578, 1248]\n",
            "305 [1235, 71899, 912]\n",
            "306 [1193, 4973, 741]\n",
            "307 [1217, 2019, 1262]\n",
            "308 [909, 1204, 1247]\n",
            "309 [593, 4973, 3030]\n",
            "310 [3030, 720, 912]\n",
            "311 [1204, 1235, 1172]\n",
            "312 [50, 778, 318]\n",
            "313 [44191, 31658, 4886]\n",
            "314 [750, 1196, 1197]\n",
            "315 [912, 858, 318]\n",
            "316 [1198, 2959, 741]\n",
            "317 [1210, 741, 527]\n",
            "318 [1204, 1104, 951]\n",
            "319 [260, 1196, 1276]\n",
            "320 [858, 58559, 750]\n",
            "321 [2324, 750, 5690]\n",
            "322 [741, 246, 38061]\n",
            "323 [608, 1197, 2959]\n",
            "324 [1199, 2324, 750]\n",
            "325 [1204, 912, 608]\n",
            "326 [8636, 1198, 246]\n",
            "327 [1204, 1277, 3435]\n",
            "328 [3030, 593, 5902]\n",
            "329 [246, 912, 1208]\n",
            "330 [68954, 1104, 106782]\n",
            "331 [750, 1193, 1250]\n",
            "332 [1197, 5618, 1193]\n",
            "333 [1089, 750, 1945]\n",
            "334 [1213, 1089, 3435]\n",
            "335 [1221, 1198, 1213]\n",
            "336 [750, 1104, 1204]\n",
            "337 [1136, 1213, 2571]\n",
            "338 [2067, 356, 2788]\n",
            "339 [223, 741, 2329]\n",
            "340 [3030, 1223, 3435]\n",
            "341 [318, 1198, 1237]\n",
            "342 [356, 296, 318]\n",
            "343 [741, 1197, 899]\n",
            "344 [1198, 1387, 1172]\n",
            "345 [1204, 1104, 1172]\n",
            "346 [919, 1213, 1283]\n",
            "347 [318, 4973, 260]\n",
            "348 [1197, 2571, 1203]\n",
            "349 [1197, 457, 4973]\n",
            "350 [2959, 1204, 3451]\n",
            "351 [318, 1237, 898]\n",
            "352 [1210, 1235, 1221]\n",
            "353 [5747, 1387, 215]\n",
            "354 [1237, 1172, 951]\n",
            "355 [2959, 1283, 1204]\n",
            "356 [1204, 1193, 898]\n",
            "357 [912, 1617, 142488]\n",
            "358 [1235, 593, 1204]\n",
            "359 [912, 1104, 750]\n",
            "360 [741, 4973, 1197]\n",
            "361 [1199, 57669, 1250]\n",
            "362 [1197, 1204, 2300]\n",
            "363 [1204, 1213, 3030]\n",
            "364 [1199, 904, 750]\n",
            "365 [898, 912, 922]\n",
            "366 [1197, 899, 527]\n",
            "367 [1104, 5952, 4995]\n",
            "368 [318, 912, 3275]\n",
            "369 [1204, 3275, 1104]\n",
            "370 [912, 1225, 3275]\n",
            "371 [296, 608, 1089]\n",
            "372 [4993, 2571, 7153]\n",
            "373 [858, 1208, 2858]\n",
            "374 [1213, 1172, 1204]\n",
            "375 [858, 750, 2959]\n",
            "376 [56782, 1237, 1204]\n",
            "377 [1276, 1221, 912]\n",
            "378 [1197, 3030, 1283]\n",
            "379 [8368, 1203, 3030]\n",
            "380 [1284, 910, 2019]\n",
            "381 [912, 3451, 741]\n",
            "382 [1221, 3468, 1208]\n",
            "383 [1203, 3030, 1199]\n",
            "384 [3275, 47, 1221]\n",
            "385 [2300, 1261, 2019]\n",
            "386 [1197, 1193, 2324]\n",
            "387 [27156, 1233, 62336]\n",
            "388 [2324, 2571, 750]\n",
            "389 [318, 112552, 80906]\n",
            "390 [1225, 6807, 904]\n",
            "391 [1262, 1267, 7153]\n",
            "392 [356, 1945, 3275]\n",
            "393 [951, 899, 587]\n",
            "394 [3030, 2324, 318]\n",
            "395 [1204, 1212, 898]\n",
            "396 [2019, 1208, 1221]\n",
            "397 [951, 1193, 318]\n",
            "398 [1221, 3949, 527]\n",
            "399 [1035, 4011, 1104]\n",
            "400 [527, 1225, 1283]\n",
            "401 [1204, 1217, 912]\n",
            "402 [3030, 1235, 81845]\n",
            "403 [2959, 5618, 3275]\n",
            "404 [912, 2324, 1172]\n",
            "405 [1204, 741, 898]\n",
            "406 [1283, 1213, 1204]\n",
            "407 [741, 47, 1199]\n",
            "408 [2324, 3030, 1197]\n",
            "409 [1199, 1250, 4973]\n",
            "410 [2959, 38061, 3275]\n",
            "411 [898, 1203, 4011]\n",
            "412 [1198, 306, 1242]\n",
            "413 [50, 899, 904]\n",
            "414 [1411, 3030, 1258]\n",
            "415 [3030, 741, 2019]\n",
            "416 [1208, 1283, 4226]\n",
            "417 [750, 741, 1203]\n",
            "418 [608, 1262, 2300]\n",
            "419 [2580, 1261, 38061]\n",
            "420 [1204, 1198, 951]\n",
            "421 [750, 3275, 3451]\n",
            "422 [1104, 1204, 1217]\n",
            "423 [1233, 741, 3451]\n",
            "424 [1283, 3030, 1204]\n",
            "425 [1204, 1104, 58559]\n",
            "426 [1237, 912, 3451]\n",
            "427 [1193, 2959, 3275]\n",
            "428 [2324, 1204, 1213]\n",
            "429 [750, 5952, 912]\n",
            "430 [7361, 1089, 1193]\n",
            "431 [3275, 475, 898]\n",
            "432 [56782, 1213, 1104]\n",
            "433 [1204, 898, 899]\n",
            "434 [1221, 50, 1209]\n",
            "435 [1213, 1197, 5952]\n",
            "436 [260, 608, 1221]\n",
            "437 [912, 2858, 2959]\n",
            "438 [2324, 1213, 916]\n",
            "439 [1221, 741, 1203]\n",
            "440 [1213, 1104, 1198]\n",
            "441 [1208, 1213, 1222]\n",
            "442 [4973, 38061, 904]\n",
            "443 [898, 1945, 912]\n",
            "444 [1262, 858, 1104]\n",
            "445 [318, 1250, 1193]\n",
            "446 [1262, 1204, 260]\n",
            "447 [2571, 3949, 27773]\n",
            "448 [318, 910, 475]\n",
            "449 [2571, 593, 1198]\n",
            "450 [1197, 5690, 1203]\n",
            "451 [318, 1235, 1089]\n",
            "452 [1, 6, 296]\n",
            "453 [72226, 38061, 3275]\n",
            "454 [1204, 741, 3275]\n",
            "455 [1203, 1262, 2300]\n",
            "456 [4973, 908, 1104]\n",
            "457 [318, 1213, 1089]\n",
            "458 [318, 4973, 1945]\n",
            "459 [1204, 58559, 750]\n",
            "460 [1262, 1204, 908]\n",
            "461 [1204, 2324, 1237]\n",
            "462 [1204, 7438, 1104]\n",
            "463 [1104, 1617, 4973]\n",
            "464 [56782, 457, 898]\n",
            "465 [2858, 1199, 246]\n",
            "466 [1199, 3275, 750]\n",
            "467 [2019, 541, 318]\n",
            "468 [46578, 1104, 74458]\n",
            "469 [2019, 5618, 1148]\n",
            "470 [3030, 2324, 3451]\n",
            "471 [1283, 1089, 3030]\n",
            "472 [898, 1237, 2019]\n",
            "473 [750, 27773, 904]\n",
            "474 [3275, 51255, 55363]\n",
            "475 [593, 1089, 1213]\n",
            "476 [904, 912, 910]\n",
            "477 [3578, 1221, 778]\n",
            "478 [1199, 858, 280]\n",
            "479 [4973, 1104, 2959]\n",
            "480 [912, 78499, 908]\n",
            "481 [2858, 1204, 296]\n",
            "482 [1193, 3275, 2959]\n",
            "483 [541, 1207, 3949]\n",
            "484 [3972, 1288, 2300]\n",
            "485 [912, 1199, 92259]\n",
            "486 [2571, 2858, 3451]\n",
            "487 [3030, 1204, 741]\n",
            "488 [2571, 7361, 2580]\n",
            "489 [3451, 2997, 1104]\n",
            "490 [899, 903, 904]\n",
            "491 [318, 2858, 1199]\n",
            "492 [898, 1215, 3508]\n",
            "493 [1213, 741, 1235]\n",
            "494 [912, 1089, 318]\n",
            "495 [2858, 912, 1283]\n",
            "496 [1204, 3451, 1104]\n",
            "497 [3275, 1237, 2019]\n",
            "498 [1203, 1276, 720]\n",
            "499 [356, 2959, 912]\n",
            "500 [1204, 1250, 80906]\n",
            "501 [475, 527, 2324]\n",
            "502 [296, 1193, 356]\n",
            "503 [260, 7153, 1104]\n",
            "504 [741, 1197, 1235]\n",
            "505 [750, 1104, 1193]\n",
            "506 [750, 912, 3030]\n",
            "507 [4011, 2300, 318]\n",
            "508 [4993, 7153, 1197]\n",
            "509 [1204, 3030, 1945]\n",
            "510 [7361, 1206, 1250]\n",
            "511 [1199, 296, 1235]\n",
            "512 [1208, 1248, 260]\n",
            "513 [246, 1208, 908]\n",
            "514 [1221, 4973, 1104]\n",
            "515 [608, 1197, 1213]\n",
            "516 [1208, 912, 3030]\n",
            "517 [3213, 58, 2268]\n",
            "518 [1193, 296, 318]\n",
            "519 [750, 1221, 1223]\n",
            "520 [1233, 2959, 1283]\n",
            "521 [1104, 318, 1213]\n",
            "522 [3468, 27773, 71899]\n",
            "523 [50, 110, 260]\n",
            "524 [6016, 7153, 48516]\n",
            "525 [589, 1217, 898]\n",
            "526 [1208, 4993, 56782]\n",
            "527 [898, 1653, 111]\n",
            "528 [318, 908, 1204]\n",
            "529 [926, 912, 2019]\n",
            "530 [741, 1283, 1884]\n",
            "531 [1221, 1225, 1197]\n",
            "532 [1193, 7361, 908]\n",
            "533 [318, 750, 3030]\n",
            "534 [1136, 1276, 318]\n",
            "535 [318, 1193, 750]\n",
            "536 [318, 908, 1234]\n",
            "537 [2959, 60684, 1035]\n",
            "538 [954, 318, 475]\n",
            "539 [4226, 4973, 1250]\n",
            "540 [898, 2324, 1221]\n",
            "541 [858, 912, 1148]\n",
            "542 [2300, 1201, 48774]\n",
            "543 [1, 260, 457]\n",
            "544 [475, 1104, 2324]\n",
            "545 [2329, 318, 1193]\n",
            "546 [2502, 750, 3578]\n",
            "547 [1172, 2324, 1213]\n",
            "548 [750, 110, 1213]\n",
            "549 [1204, 1193, 1250]\n",
            "550 [1148, 260, 1197]\n",
            "551 [69481, 5690, 898]\n",
            "552 [50, 1221, 318]\n",
            "553 [3275, 2300, 47]\n",
            "554 [318, 745, 3451]\n",
            "555 [1203, 527, 177593]\n",
            "556 [318, 356, 1262]\n",
            "557 [1250, 1197, 1203]\n",
            "558 [2324, 318, 71899]\n",
            "559 [1198, 1196, 1221]\n",
            "560 [1104, 541, 1172]\n",
            "561 [3030, 1262, 1080]\n",
            "562 [741, 2324, 2300]\n",
            "563 [2959, 1248, 1617]\n",
            "564 [3030, 1204, 1197]\n",
            "565 [912, 750, 1213]\n",
            "566 [1262, 1203, 912]\n",
            "567 [1172, 47, 246]\n",
            "568 [1204, 1237, 858]\n",
            "569 [318, 898, 1193]\n",
            "570 [741, 4973, 1104]\n",
            "571 [527, 2324, 2959]\n",
            "572 [1104, 4973, 3030]\n",
            "573 [1206, 1199, 1203]\n",
            "574 [5618, 260, 1196]\n",
            "575 [318, 1208, 858]\n",
            "576 [296, 858, 1204]\n",
            "577 [3147, 4993, 7371]\n",
            "578 [1199, 4993, 5952]\n",
            "579 [750, 4993, 1246]\n",
            "580 [81845, 1235, 2324]\n",
            "581 [1193, 260, 1288]\n",
            "582 [318, 951, 3275]\n",
            "583 [1104, 919, 5690]\n",
            "584 [2959, 318, 91529]\n",
            "585 [1288, 898, 1198]\n",
            "586 [2959, 3703, 80906]\n",
            "587 [142488, 2150, 1203]\n",
            "588 [750, 858, 912]\n",
            "589 [475, 1172, 3030]\n",
            "590 [5618, 3030, 475]\n",
            "591 [318, 1198, 898]\n",
            "592 [1197, 1213, 1208]\n",
            "593 [750, 1276, 933]\n",
            "594 [553, 1089, 2692]\n",
            "595 [1193, 1201, 1283]\n",
            "596 [750, 27773, 3030]\n",
            "597 [527, 1250, 3996]\n",
            "598 [898, 318, 1247]\n",
            "599 [1256, 1217, 1250]\n",
            "600 [1208, 1221, 475]\n",
            "601 [4973, 3030, 1104]\n",
            "602 [4993, 168252, 2571]\n",
            "603 [750, 27773, 6350]\n",
            "604 [898, 1204, 3275]\n",
            "605 [1208, 1203, 908]\n",
            "606 [741, 1248, 1262]\n",
            "607 [1584, 3451, 741]\n",
            "608 [2019, 1104, 1303]\n",
            "609 [1204, 1193, 1283]\n",
            "610 [1206, 1250, 1148]\n"
          ],
          "name": "stdout"
        }
      ]
    },
    {
      "cell_type": "code",
      "metadata": {
        "id": "qrj18LRjgRv0",
        "colab_type": "code",
        "colab": {}
      },
      "source": [
        ""
      ],
      "execution_count": null,
      "outputs": []
    }
  ]
}